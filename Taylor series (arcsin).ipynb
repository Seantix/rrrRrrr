{
 "cells": [
  {
   "cell_type": "markdown",
   "metadata": {},
   "source": [
    "Разложим в ряд Тейлора arcsin(x):\n",
    "\n",
    "$$ arcsin(x) = \\sum^{\\infty}_{n=0} \\frac{(2n)!}{4^n (n!)^2 (2n+1)} x^{2n+1} \\ \\ \\text{для} \\ \\ |x|<1"
   ]
  },
  {
   "cell_type": "code",
   "execution_count": null,
   "metadata": {},
   "outputs": [],
   "source": [
    "import math\n",
    "\n",
    "ITERATIONS = 20\n",
    "\n",
    "def my_arcsin(x):\n",
    "    x_pow = x\n",
    "    multiplier = 1\n",
    "    partial_sum = x\n",
    "    for n in range(1, ITERATIONS):\n",
    "        x_pow *= x**2\n",
    "        multiplier = math.factorial(2*n) / (4**n * math.factorial(n)**2 * (2*n + 1))\n",
    "        partial_sum += x_pow * multiplier\n",
    "    return partial_sum\n",
    "\n",
    "print(math.asin(0.3))\n",
    "print(my_arcsin(0.3))"
   ]
  },
  {
   "cell_type": "markdown",
   "metadata": {},
   "source": [
    "Постороим графики нашего многочлена и оригинальной функции и сравним их:"
   ]
  },
  {
   "cell_type": "code",
   "execution_count": null,
   "metadata": {},
   "outputs": [],
   "source": [
    "import matplotlib.pyplot as plt\n",
    "%config InlineBackend.figure_formats = ['svg',  'pdf']\n",
    "%matplotlib inline\n",
    "\n",
    "\n",
    "import matplotlib.pyplot as plt\n",
    "import numpy as np\n",
    "\n",
    "vs = np.vectorize(my_arcsin)\n",
    "print(my_arcsin, vs)\n",
    "\n",
    "angles = np.r_[-1:1:0.01]\n",
    "plt.plot(angles, np.arcsin(angles), linewidth=3.0, color='cyan')\n",
    "plt.plot(angles, vs(angles), linewidth=1.0, color='black')\n",
    "plt.show()"
   ]
  }
 ],
 "metadata": {
  "kernelspec": {
   "display_name": "Python 3.10.7 64-bit",
   "language": "python",
   "name": "python3"
  },
  "language_info": {
   "name": "python",
   "version": "3.10.7"
  },
  "orig_nbformat": 4,
  "vscode": {
   "interpreter": {
    "hash": "2469a70536e4d2335a2ea8907942d0699c37342a371ac185bdb5b0aa6f073890"
   }
  }
 },
 "nbformat": 4,
 "nbformat_minor": 2
}
